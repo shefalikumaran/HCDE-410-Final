{
 "cells": [
  {
   "cell_type": "markdown",
   "id": "6843ae62-29f1-4858-961a-5e01036a88dc",
   "metadata": {
    "tags": []
   },
   "source": [
    "**Motivation and problem statement:** \n",
    "For this project, I want to examine the Seattle Real Time Fire 911 Calls dataset to answer the question: Which areas of Seattle experience the most fires? \n",
    "I was interested in this dataset because it gets updated every 5 minutes, providing a significant amount of information. I want to know where Seattle experiences the most fires because this information will help me understand if there are any patterns in the locations. If there are, it could lead to further investigation examining the reasons why certain areas are affected more than others. Places that do not get proper renovation are not fit for people to live in, knowing where these areas are can help see which areas need more renovation and funding to do so, making sure space is up to code and safe enough. \n",
    "**Data selected for analysis:** What dataset do you plan to use, and why? \n",
    "I selected this data set: Seattle Real Time Fire 911 Calls\n",
    "Link: https://data.seattle.gov/Public-Safety/Seattle-Real-Time-Fire-911-Calls/kzjm-xkqj \n",
    "This dataset contains location data for all fire related 911 calls in the Seattle area. It is updated every 5 minutes, so there is a ton of data to work with which is one the reasons I chose to work with this dataset. Knowing the location of each call will help me directly answer my research question.\n",
    "**Unknowns and dependencies:**\n",
    "This dataset is incredibly large which gives me a lot of data to work with, but it might be hard to narrow the scope of my project down enough so I can make sure I finish in the right amount of time. As I move forward with my final project plan, I will need to think more about how I will narrow down the data I work with (probably within a certain timeframe).\n"
   ]
  },
  {
   "cell_type": "markdown",
   "id": "a94c7db5-8af6-4e34-b1c6-7195e0b4a4a5",
   "metadata": {},
   "source": [
    "**Research questions (or hypotheses):** \n",
    "So far, the research questions I want to focus on are:\n",
    "\tWhich districts in Seattle have the most fires? \n",
    "\tIs there a trend between the number of fire calls and time?\n",
    "\tWhat is the distribution of the types of fire calls?\n",
    "\n",
    "**Background and/or Related Work:** \n",
    "From my research, I have found that Washington state’s typical fire season is July through September. There was not very much information or research done on Seattle specifically, so my research needs to account for the specific landscapes and infrastructures of Seattle. According to previous research, the main causes of fire in indoor settings are heat producing appliances, open flame ignition sources, electric malfunction, smoking and static electricity (https://fire.nv.gov/uploadedfiles/firenvgov/content/bureaus/FST/2-ifipp-FHsm.pdf). Other most common causes specific to homes include electric appliance malfunctions, outlets, misused storage space, heating equipment malfunction and kitchen appliance failure(https://www.redcross.org/get-help/how-to-prepare-for-emergencies/types-of-emergencies/fire/is-your-home-a-fire-hazard.html#:~:text=Heating%20equipment%2C%20like%20space%20heaters,from%20flammable%20materials%20or%20items.). Outdoor wildfires are most commonly rubbish fires and natural vegetation fires (https://www.usfa.fema.gov/downloads/pdf/statistics/v9i2.pdf). Understanding the causes of fire will be important in my study because it will give me the context needed to develop my analysis once the districts with the most fires are determined. I will need to do much more background research on Seattle’s landscape and infrastructure per each district to properly analyze the causes.\n",
    "\n",
    "**Methodology:**\n",
    "I am still narrowing down which research question I want to spend the most time on as I sort through the data and outside resources. Most of these questions are assessing correlation so the methods I am looking at are linear or logistic regression. I am planning on doing a linear or logistic regression depending on what the data ends up looking like. \n",
    "To present my findings, I am planning on using data visualizations most likely in the form of a map due to the amount of spatial information I am trying to convey. I am also planning on doing graphs and plots to show different findings from the same analysis. The methods I am choosing to move forward with will give me a clear understanding of correlations and trends which is needed to answer my research questions thoroughly. My analysis is also more qualitative in nature, so having a good base of numerical finding to support that would be very useful to my audience’s understanding of the causes and patterns within fire calls throughout Seattle. Presenting the data in the form of a map is the clearest way to visually show fire calls by location. Many of the columns of the dataset convey location data that would be the most visually understandable in the form of a map."
   ]
  },
  {
   "cell_type": "code",
   "execution_count": null,
   "id": "7b733b4a-fa60-4539-b7e0-7dc5142d958d",
   "metadata": {},
   "outputs": [],
   "source": []
  }
 ],
 "metadata": {
  "kernelspec": {
   "display_name": "Python 3 (ipykernel)",
   "language": "python",
   "name": "python3"
  },
  "language_info": {
   "codemirror_mode": {
    "name": "ipython",
    "version": 3
   },
   "file_extension": ".py",
   "mimetype": "text/x-python",
   "name": "python",
   "nbconvert_exporter": "python",
   "pygments_lexer": "ipython3",
   "version": "3.9.7"
  }
 },
 "nbformat": 4,
 "nbformat_minor": 5
}
