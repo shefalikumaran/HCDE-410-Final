{
 "cells": [
  {
   "cell_type": "markdown",
   "id": "a1cd47d6-86b4-44f3-972b-c0879a55b1ae",
   "metadata": {},
   "source": [
    "**Introduction** \n",
    "This project examines a live database that contains every fire call in the Seattle area from the early 2000s to date. Each call has the following documented: address, type, datetime, latitude, longitude, report location and incident number. The purpose of this project was to find the predominant type of Seattle fire call during the year of Washington’s worst wildfire season and examine that type in the surrounding years to find trends and potential indicators of a significantly worse wildfire season. \n",
    "\n",
    "**Data selected for analysis:** \n",
    "I selected this data set: Seattle Real Time Fire 911 Calls\n",
    "Link: https://data.seattle.gov/Public-Safety/Seattle-Real-Time-Fire-911-Calls/kzjm-xkqj \n",
    "\n",
    "**Background on Wildfire - Causes and Washington State History**\n",
    "Washingtons state’s worst wildfire season to date was the year 2015. Washington state’s typical fire season is July through September. There was not very much information or research done on Seattle specifically, so it should be noted that my research does not account for the specific landscapes and infrastructures of Seattle compared to the rest of Washington state. According to previous research, the main causes of fire in indoor settings are heat producing appliances, open flame ignition sources, electric malfunction, smoking and static electricity (https://fire.nv.gov/uploadedfiles/firenvgov/content/bureaus/FST/2-ifipp-FHsm.pdf). Other most common causes specific to homes include electric appliance malfunctions, outlets, misused storage space, heating equipment malfunction and kitchen appliance failure(https://www.redcross.org/get-help/how-to-prepare-for-emergencies/types-of-emergencies/fire/is-your-home-a-fire-hazard.html#:~:text=Heating%20equipment%2C%20like%20space%20heaters,from%20flammable%20materials%20or%20items.). Outdoor wildfires are most commonly rubbish fires and natural vegetation fires (https://www.usfa.fema.gov/downloads/pdf/statistics/v9i2.pdf). \n",
    "\n",
    "**Research questions and Methodology**\n",
    "Because the worst wildfire season for Washington state to date is 2015, I wanted to examine the types of Seattle fire calls 5 years leading up to the year 2015 and 5 years after. My main research questions were:\n",
    "\n",
    "How many people were affected by the worst wildfire season in the Seattle area? \n",
    "\n",
    "What was the leading cause of fires in the Seattle area in the year 2015?\n",
    "\n",
    "Do we see the same leading causes of fires in the Seattle area compared to the year 2015?\n",
    "\n",
    "Were there upward trends in the most prevalent type of fire call leading up to the year 2015?\n",
    "\n",
    "Once I had my research questions narrowed down, I found the top 5 leading causes of fire calls in the Seattle area in the year 2015:\n"
   ]
  },
  {
   "cell_type": "code",
   "execution_count": 16,
   "id": "dd41bad3-c413-4a84-a487-a079b5af80b4",
   "metadata": {},
   "outputs": [],
   "source": [
    "import pandas as pd\n",
    "import numpy as np"
   ]
  },
  {
   "cell_type": "code",
   "execution_count": 17,
   "id": "8a377b5b-7ccd-4db1-bef4-3aa6b66e4bee",
   "metadata": {
    "tags": []
   },
   "outputs": [],
   "source": [
    "df = pd.read_csv('2015_calls.csv')"
   ]
  },
  {
   "cell_type": "code",
   "execution_count": 18,
   "id": "a9b88c42-2ce3-4996-a10b-0e95f3efe2f4",
   "metadata": {},
   "outputs": [],
   "source": [
    "df_types = df.groupby(\"Type\")"
   ]
  },
  {
   "cell_type": "code",
   "execution_count": 19,
   "id": "af09c936-52c8-4462-826b-63e74a9e51f2",
   "metadata": {},
   "outputs": [],
   "source": [
    "df_types_counted = df_types.size()"
   ]
  },
  {
   "cell_type": "code",
   "execution_count": 20,
   "id": "bc941c49-5eff-4199-8b7b-ec29d19cc940",
   "metadata": {},
   "outputs": [],
   "source": [
    "df_types_final = df_types_counted.to_frame()"
   ]
  },
  {
   "cell_type": "code",
   "execution_count": 21,
   "id": "e9888a4d-783a-409f-8246-3b00497633aa",
   "metadata": {},
   "outputs": [],
   "source": [
    "df_types_final = df_types_final.rename(columns= {0: 'Frequency'})"
   ]
  },
  {
   "cell_type": "code",
   "execution_count": 22,
   "id": "77bf1199-117f-4925-8e35-edc9cdc2fcf0",
   "metadata": {},
   "outputs": [
    {
     "data": {
      "text/html": [
       "<div>\n",
       "<style scoped>\n",
       "    .dataframe tbody tr th:only-of-type {\n",
       "        vertical-align: middle;\n",
       "    }\n",
       "\n",
       "    .dataframe tbody tr th {\n",
       "        vertical-align: top;\n",
       "    }\n",
       "\n",
       "    .dataframe thead th {\n",
       "        text-align: right;\n",
       "    }\n",
       "</style>\n",
       "<table border=\"1\" class=\"dataframe\">\n",
       "  <thead>\n",
       "    <tr style=\"text-align: right;\">\n",
       "      <th></th>\n",
       "      <th>Frequency</th>\n",
       "    </tr>\n",
       "    <tr>\n",
       "      <th>Type</th>\n",
       "      <th></th>\n",
       "    </tr>\n",
       "  </thead>\n",
       "  <tbody>\n",
       "    <tr>\n",
       "      <th>Aid Response</th>\n",
       "      <td>50622</td>\n",
       "    </tr>\n",
       "    <tr>\n",
       "      <th>Medic Response</th>\n",
       "      <td>17448</td>\n",
       "    </tr>\n",
       "    <tr>\n",
       "      <th>Trans to AMR</th>\n",
       "      <td>5175</td>\n",
       "    </tr>\n",
       "    <tr>\n",
       "      <th>Auto Fire Alarm</th>\n",
       "      <td>4617</td>\n",
       "    </tr>\n",
       "    <tr>\n",
       "      <th>MVI - Motor Vehicle Incident</th>\n",
       "      <td>2614</td>\n",
       "    </tr>\n",
       "    <tr>\n",
       "      <th>...</th>\n",
       "      <td>...</td>\n",
       "    </tr>\n",
       "    <tr>\n",
       "      <th>Mutual Aid, Tech Res</th>\n",
       "      <td>1</td>\n",
       "    </tr>\n",
       "    <tr>\n",
       "      <th>Mutual Aid, Hazmat</th>\n",
       "      <td>1</td>\n",
       "    </tr>\n",
       "    <tr>\n",
       "      <th>ANTIB - Antibiotic Delivery</th>\n",
       "      <td>1</td>\n",
       "    </tr>\n",
       "    <tr>\n",
       "      <th>Mutual Aid, Adv. Life</th>\n",
       "      <td>1</td>\n",
       "    </tr>\n",
       "    <tr>\n",
       "      <th>Rescue Fresh Water Maj</th>\n",
       "      <td>1</td>\n",
       "    </tr>\n",
       "  </tbody>\n",
       "</table>\n",
       "<p>115 rows × 1 columns</p>\n",
       "</div>"
      ],
      "text/plain": [
       "                              Frequency\n",
       "Type                                   \n",
       "Aid Response                      50622\n",
       "Medic Response                    17448\n",
       "Trans to AMR                       5175\n",
       "Auto Fire Alarm                    4617\n",
       "MVI - Motor Vehicle Incident       2614\n",
       "...                                 ...\n",
       "Mutual Aid, Tech Res                  1\n",
       "Mutual Aid, Hazmat                    1\n",
       "ANTIB - Antibiotic Delivery           1\n",
       "Mutual Aid, Adv. Life                 1\n",
       "Rescue Fresh Water Maj                1\n",
       "\n",
       "[115 rows x 1 columns]"
      ]
     },
     "execution_count": 22,
     "metadata": {},
     "output_type": "execute_result"
    }
   ],
   "source": [
    "df_types_final.sort_values(by='Frequency', ascending=False)"
   ]
  },
  {
   "attachments": {
    "b891fd8f-99f3-4ed9-b5b8-0f0a23d82f31.PNG": {
     "image/png": "[encoded data removed]"
    }
   },
   "cell_type": "markdown",
   "id": "923a7435-f6f1-4610-b27c-df4cbeb03d28",
   "metadata": {},
   "source": [
    "Aid Response was the number one type of fire call in the year 2015, which means that firefighters were mostly providing aid to people already affected by a fire in the area. Aid response means firefighters were providing direct non-medical aid to those impacted by fire. This gives us a sense of how many people were perhaps impacted by the increase in fires in this year. Guided by my research questions, I was interested to look at this specific type (Aid Response) of call throughout the years 2010-2020 to compare it to 2015 and see if there were any trends. A progressive upward trend in the 5 years leading up to 2015 could indicate that when Aid Response calls slowly increase by a certain number over time, a worse wildfire season is to be expected. A negative trend would mean that the opposite was true and no trend would mean no correlation. My hypothesis looking at this data was that there was a progressive upward trend in the number of Aid Response calls in the years leading up to worst wildfire season. \n",
    "\n",
    "To find the trend, I inputted the data into Tableau and cleaned it to find the number of Aid Response calls for each year. I then inserted those numbers into an excel sheet to better display the data and create visualizations. ![Data visualization 1.PNG](attachment:b891fd8f-99f3-4ed9-b5b8-0f0a23d82f31.PNG) \n"
   ]
  },
  {
   "cell_type": "markdown",
   "id": "15af3ed9-eae9-49a9-8f80-b073bea1f113",
   "metadata": {},
   "source": [
    "**Finding**\n",
    "The minimum frequency of Aid Response was 6, and the maximum was 50622. The maximum of the decade did in fact occur in the year 2015. \n",
    "The mean frequency over the decade of Aid Response was 21661, this indicates the presence of outliers in the data and is half of the frequency of the year 2015. \n",
    "\n",
    "The graph shows an upward trend for the 5 years leading up to the wildfire event, and a sharp downward trend right after. From these findings, it can be concluded that there is a correlation between frequency of Aid Response and worsening wildfire seasons but this relationship is spurious and needs further examining to determine a causal relationship between the two.\n",
    "\n",
    "**Discussion and Limitations**\n",
    "\n",
    "Limitation 1 - Washington Landscape \n",
    "The urban landscape of Seattle is not representative of the settings in which wildfires occur in Washington, which are mainly forested or arid areas. Therefore, it is not within the capabilities of this report to say that the data in this set can necessarily relate to mass wildfire events in the state. \n",
    "\n",
    "Limitation 2 – Discrepancies in Number of Types in Dataset\n",
    "In the dataset, after the year 2015, there is a sudden drop in the number of rows with the type ‘aid response’. By looking at the distribution of the different type variables, I found that this is due to the addition of more granular type variables which automatically mean that data points that were once formerly classified under aid response could then fall into another type of fire call variable. This leads to discrepancies while trying to analyze this data longitudinally. \n",
    "\n",
    "Limitation 3 – Lack of consistency of qualitative codes\n",
    "When looking further into the type variables, it is evident that some of the variables signified the cause of the fire event, whereas other variables stood for the type of response relayed by responders. Since I was trying to attribute the fire call types to the incidence of wildfires, it was challenging to figure out whether the type with the highest frequency was a direct cause or effect of wildfires. \n",
    "\n",
    "All things considered, this report is an in-depth look at the frequency of fire calls that were aid responses. The report summarizes a potential causal relationship between aid response fire calls and the increased severity of wildfire seasons. Nonetheless, the limitations that I identified clearly show that this data set is not highly representative of the total landscape of the state of Washington, meaning that further investigation in the form of more comprehensive data is needed to properly assess the linkage between aid response and wildfires. \n",
    "\n"
   ]
  },
  {
   "cell_type": "code",
   "execution_count": null,
   "id": "6938bbf7-2eb4-4ee6-a428-bb4ea541fc9c",
   "metadata": {},
   "outputs": [],
   "source": []
  }
 ],
 "metadata": {
  "kernelspec": {
   "display_name": "Python 3 (ipykernel)",
   "language": "python",
   "name": "python3"
  },
  "language_info": {
   "codemirror_mode": {
    "name": "ipython",
    "version": 3
   },
   "file_extension": ".py",
   "mimetype": "text/x-python",
   "name": "python",
   "nbconvert_exporter": "python",
   "pygments_lexer": "ipython3",
   "version": "3.9.7"
  }
 },
 "nbformat": 4,
 "nbformat_minor": 5
}
